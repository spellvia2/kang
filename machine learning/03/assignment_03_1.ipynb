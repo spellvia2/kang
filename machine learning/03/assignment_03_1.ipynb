{
 "cells": [
  {
   "cell_type": "markdown",
   "metadata": {},
   "source": [
    "# Gradient of Image"
   ]
  },
  {
   "cell_type": "markdown",
   "metadata": {},
   "source": [
    "## import library"
   ]
  },
  {
   "cell_type": "code",
   "execution_count": 1,
   "metadata": {},
   "outputs": [],
   "source": [
    "import numpy as np\n",
    "import matplotlib.image as img\n",
    "import matplotlib.pyplot as plt\n",
    "from matplotlib import cm\n",
    "import matplotlib.colors as colors"
   ]
  },
  {
   "cell_type": "markdown",
   "metadata": {},
   "source": [
    "## load input image ('test.jpeg')"
   ]
  },
  {
   "cell_type": "code",
   "execution_count": 2,
   "metadata": {},
   "outputs": [],
   "source": [
    "I0 = img.imread('test.jpeg')"
   ]
  },
  {
   "cell_type": "markdown",
   "metadata": {},
   "source": [
    "## check the size of the input image"
   ]
  },
  {
   "cell_type": "code",
   "execution_count": 7,
   "metadata": {},
   "outputs": [
    {
     "name": "stdout",
     "output_type": "stream",
     "text": [
      "number of rows of I0 =  510\n",
      "number of columns of I0 =  512\n",
      "number of channels of I0 =  3\n"
     ]
    }
   ],
   "source": [
    "# ++++++++++++++++++++++++++++++++++++++++++++++++++\n",
    "# complete the blanks\n",
    "#\n",
    "num_row     = I0.shape[0]\n",
    "num_column  = I0.shape[1]\n",
    "num_channel = I0.shape[2]\n",
    "#\n",
    "# ++++++++++++++++++++++++++++++++++++++++++++++++++\n",
    "\n",
    "print('number of rows of I0 = ', num_row)\n",
    "print('number of columns of I0 = ', num_column)\n",
    "print('number of channels of I0 = ', num_channel)"
   ]
  },
  {
   "cell_type": "markdown",
   "metadata": {},
   "source": [
    "## convert the color image into a grey image\n",
    "- take the average of the input image with 3 channels with respect to the channels into an image with 1 channel"
   ]
  },
  {
   "cell_type": "code",
   "execution_count": 55,
   "metadata": {},
   "outputs": [
    {
     "name": "stdout",
     "output_type": "stream",
     "text": [
      "number of rows of I =  510\n",
      "number of columns of I =  512\n"
     ]
    }
   ],
   "source": [
    "# ++++++++++++++++++++++++++++++++++++++++++++++++++\n",
    "# complete the blanks\n",
    "#\n",
    "\n",
    "I = I0.sum(axis = 2)/3\n",
    "    \n",
    "    \n",
    "num_row     = I.shape[0]\n",
    "num_column  = I.shape[1]\n",
    "#\n",
    "# ++++++++++++++++++++++++++++++++++++++++++++++++++\n",
    "\n",
    "print('number of rows of I = ', num_row)\n",
    "print('number of columns of I = ', num_column)"
   ]
  },
  {
   "cell_type": "markdown",
   "metadata": {},
   "source": [
    "## normalize the converted image\n",
    "- normalize the converted grey scale image so that its maximum value is 1 and its minimum value is 0"
   ]
  },
  {
   "cell_type": "code",
   "execution_count": 60,
   "metadata": {},
   "outputs": [
    {
     "name": "stdout",
     "output_type": "stream",
     "text": [
      "maximum value of I =  1.0\n",
      "minimum value of I =  0.0\n"
     ]
    }
   ],
   "source": [
    "# ++++++++++++++++++++++++++++++++++++++++++++++++++\n",
    "# complete the blanks\n",
    "#\n",
    "\n",
    "I = (I - I.min())/(I.max() - I.min())\n",
    "\n",
    "#\n",
    "# ++++++++++++++++++++++++++++++++++++++++++++++++++\n",
    "\n",
    "print('maximum value of I = ', np.max(I))\n",
    "print('minimum value of I = ', np.min(I))"
   ]
  },
  {
   "cell_type": "markdown",
   "metadata": {},
   "source": [
    "## define a function to compute the derivative of input matrix in x(row)-direction"
   ]
  },
  {
   "cell_type": "markdown",
   "metadata": {},
   "source": [
    "- forward difference : $ I[x+1, y] - I[x, y] $ "
   ]
  },
  {
   "cell_type": "code",
   "execution_count": 71,
   "metadata": {},
   "outputs": [],
   "source": [
    "def compute_derivative_x_forward(I):\n",
    "    \n",
    "    D = np.zeros(I.shape)\n",
    "    \n",
    "    # ++++++++++++++++++++++++++++++++++++++++++++++++++\n",
    "    # complete the blanks\n",
    "    #\n",
    "    forward_I = np.append(I[1:,:],[I[-1,:]],axis = 0)\n",
    "    \n",
    "    D = forward_I - I\n",
    "    \n",
    "    #\n",
    "    # ++++++++++++++++++++++++++++++++++++++++++++++++++\n",
    "    \n",
    "    return D"
   ]
  },
  {
   "cell_type": "markdown",
   "metadata": {},
   "source": [
    "- backward difference : $ I[x, y] - I[x-1, y] $ "
   ]
  },
  {
   "cell_type": "code",
   "execution_count": 89,
   "metadata": {},
   "outputs": [],
   "source": [
    "def compute_derivative_x_backward(I):\n",
    "    \n",
    "    D = np.zeros(I.shape)\n",
    "    \n",
    "    # ++++++++++++++++++++++++++++++++++++++++++++++++++\n",
    "    # complete the blanks\n",
    "    #\n",
    "    backward_I = np.append(I[0,:],I[:-1,:]).reshape(510,512)\n",
    "    D = I - backward_I\n",
    "    \n",
    "    \n",
    "    #\n",
    "    # ++++++++++++++++++++++++++++++++++++++++++++++++++\n",
    "    \n",
    "    return D"
   ]
  },
  {
   "cell_type": "markdown",
   "metadata": {},
   "source": [
    "- central difference : $ \\frac{1}{2} \\left( I[x+1, y] - I[x-1, y] \\right)$ "
   ]
  },
  {
   "cell_type": "code",
   "execution_count": 92,
   "metadata": {},
   "outputs": [],
   "source": [
    "def compute_derivative_x_central(I):\n",
    "    \n",
    "    D = np.zeros(I.shape)\n",
    "    \n",
    "    # ++++++++++++++++++++++++++++++++++++++++++++++++++\n",
    "    # complete the blanks\n",
    "    #\n",
    "    backward_I = np.append(I[0,:],I[:-1,:]).reshape(510,512)\n",
    "    forward_I = np.append(I[1:,:],[I[-1,:]],axis = 0)\n",
    "    D = (forward_I - backward_I)/2\n",
    "    \n",
    "    #\n",
    "    # ++++++++++++++++++++++++++++++++++++++++++++++++++\n",
    "    \n",
    "    return D"
   ]
  },
  {
   "cell_type": "markdown",
   "metadata": {},
   "source": [
    "## define a function to compute the derivative of input matrix in y(column)-direction"
   ]
  },
  {
   "cell_type": "markdown",
   "metadata": {},
   "source": [
    "- forward difference : $ I[x, y+1] - I[x, y] $ "
   ]
  },
  {
   "cell_type": "code",
   "execution_count": 127,
   "metadata": {},
   "outputs": [],
   "source": [
    "def compute_derivative_y_forward(I):\n",
    "    \n",
    "    D = np.zeros(I.shape)\n",
    "    \n",
    "    # ++++++++++++++++++++++++++++++++++++++++++++++++++\n",
    "    # complete the blanks\n",
    "    #\n",
    "    forward_y_I = np.hstack((I[:,1:],I[:,-1].reshape(510,1)))\n",
    "    D = np.subtract(forward_y_I,I)\n",
    "    \n",
    "    #\n",
    "    # ++++++++++++++++++++++++++++++++++++++++++++++++++\n",
    "    \n",
    "    return D"
   ]
  },
  {
   "cell_type": "code",
   "execution_count": 122,
   "metadata": {},
   "outputs": [
    {
     "data": {
      "text/plain": [
       "array([[-0.03534031,  0.02094241,  0.0065445 , ..., -0.03926702,\n",
       "        -0.4986911 ,  0.        ],\n",
       "       [ 0.        , -0.03926702,  0.02094241, ..., -0.02356021,\n",
       "        -0.51832461,  0.        ],\n",
       "       [ 0.04712042, -0.04973822,  0.03010471, ..., -0.06675393,\n",
       "        -0.5       ,  0.        ],\n",
       "       ...,\n",
       "       [-0.0039267 ,  0.02879581, -0.10078534, ...,  0.08115183,\n",
       "        -0.7421466 ,  0.        ],\n",
       "       [ 0.03403141, -0.04319372, -0.0065445 , ..., -0.06151832,\n",
       "        -0.68193717,  0.        ],\n",
       "       [ 0.01439791, -0.02748691,  0.0039267 , ..., -0.06151832,\n",
       "        -0.64267016,  0.        ]])"
      ]
     },
     "execution_count": 122,
     "metadata": {},
     "output_type": "execute_result"
    }
   ],
   "source": [
    "np.transpose(np.transpose(np.hstack((I[:,1:],I[:,-1].reshape(510,1)))) - np.transpose(I))"
   ]
  },
  {
   "cell_type": "code",
   "execution_count": 118,
   "metadata": {},
   "outputs": [
    {
     "data": {
      "text/plain": [
       "array([[-0.03534031,  0.02094241,  0.0065445 , ..., -0.03926702,\n",
       "        -0.4986911 ,  0.        ],\n",
       "       [ 0.        , -0.03926702,  0.02094241, ..., -0.02356021,\n",
       "        -0.51832461,  0.        ],\n",
       "       [ 0.04712042, -0.04973822,  0.03010471, ..., -0.06675393,\n",
       "        -0.5       ,  0.        ],\n",
       "       ...,\n",
       "       [-0.0039267 ,  0.02879581, -0.10078534, ...,  0.08115183,\n",
       "        -0.7421466 ,  0.        ],\n",
       "       [ 0.03403141, -0.04319372, -0.0065445 , ..., -0.06151832,\n",
       "        -0.68193717,  0.        ],\n",
       "       [ 0.01439791, -0.02748691,  0.0039267 , ..., -0.06151832,\n",
       "        -0.64267016,  0.        ]])"
      ]
     },
     "execution_count": 118,
     "metadata": {},
     "output_type": "execute_result"
    }
   ],
   "source": [
    "np.subtract(np.hstack((I[:,1:],I[:,-1].reshape(510,1))),I)"
   ]
  },
  {
   "cell_type": "code",
   "execution_count": 123,
   "metadata": {},
   "outputs": [
    {
     "ename": "SyntaxError",
     "evalue": "unexpected EOF while parsing (<ipython-input-123-17bb3afd3b3d>, line 1)",
     "output_type": "error",
     "traceback": [
      "\u001b[1;36m  File \u001b[1;32m\"<ipython-input-123-17bb3afd3b3d>\"\u001b[1;36m, line \u001b[1;32m1\u001b[0m\n\u001b[1;33m    np.hstack((I[:,1:]\u001b[0m\n\u001b[1;37m                      ^\u001b[0m\n\u001b[1;31mSyntaxError\u001b[0m\u001b[1;31m:\u001b[0m unexpected EOF while parsing\n"
     ]
    }
   ],
   "source": []
  },
  {
   "cell_type": "code",
   "execution_count": 115,
   "metadata": {},
   "outputs": [
    {
     "data": {
      "text/plain": [
       "array([[0.0117801 ],\n",
       "       [0.0052356 ],\n",
       "       [0.0104712 ],\n",
       "       [0.0039267 ],\n",
       "       [0.01570681],\n",
       "       [0.0052356 ],\n",
       "       [0.0052356 ],\n",
       "       [0.0026178 ],\n",
       "       [0.01439791],\n",
       "       [0.0026178 ],\n",
       "       [0.0117801 ],\n",
       "       [0.0052356 ],\n",
       "       [0.0078534 ],\n",
       "       [0.0104712 ],\n",
       "       [0.0026178 ],\n",
       "       [0.0104712 ],\n",
       "       [0.0039267 ],\n",
       "       [0.0039267 ],\n",
       "       [0.9986911 ],\n",
       "       [0.0013089 ],\n",
       "       [0.0026178 ],\n",
       "       [0.0039267 ],\n",
       "       [0.0013089 ],\n",
       "       [0.0117801 ],\n",
       "       [0.0039267 ],\n",
       "       [0.0065445 ],\n",
       "       [0.0013089 ],\n",
       "       [0.0013089 ],\n",
       "       [0.0065445 ],\n",
       "       [0.0026178 ],\n",
       "       [0.0039267 ],\n",
       "       [0.0039267 ],\n",
       "       [0.0104712 ],\n",
       "       [0.0013089 ],\n",
       "       [0.0013089 ],\n",
       "       [0.0026178 ],\n",
       "       [0.0013089 ],\n",
       "       [0.0065445 ],\n",
       "       [0.0065445 ],\n",
       "       [0.0052356 ],\n",
       "       [0.0078534 ],\n",
       "       [0.0104712 ],\n",
       "       [0.0039267 ],\n",
       "       [0.0065445 ],\n",
       "       [0.0052356 ],\n",
       "       [0.0026178 ],\n",
       "       [0.0026178 ],\n",
       "       [0.0039267 ],\n",
       "       [0.0013089 ],\n",
       "       [0.0039267 ],\n",
       "       [0.0013089 ],\n",
       "       [0.0091623 ],\n",
       "       [0.0039267 ],\n",
       "       [0.0013089 ],\n",
       "       [0.0117801 ],\n",
       "       [0.0039267 ],\n",
       "       [1.        ],\n",
       "       [0.0039267 ],\n",
       "       [0.02879581],\n",
       "       [0.0065445 ],\n",
       "       [0.01308901],\n",
       "       [0.0013089 ],\n",
       "       [0.0078534 ],\n",
       "       [0.0052356 ],\n",
       "       [0.0013089 ],\n",
       "       [0.0013089 ],\n",
       "       [0.0013089 ],\n",
       "       [0.0013089 ],\n",
       "       [0.0013089 ],\n",
       "       [0.0013089 ],\n",
       "       [0.0013089 ],\n",
       "       [0.0039267 ],\n",
       "       [0.0117801 ],\n",
       "       [0.0039267 ],\n",
       "       [0.0026178 ],\n",
       "       [0.0026178 ],\n",
       "       [0.0026178 ],\n",
       "       [0.0026178 ],\n",
       "       [0.0026178 ],\n",
       "       [0.0026178 ],\n",
       "       [0.0078534 ],\n",
       "       [0.0013089 ],\n",
       "       [0.0039267 ],\n",
       "       [0.0065445 ],\n",
       "       [0.0065445 ],\n",
       "       [0.0039267 ],\n",
       "       [0.0013089 ],\n",
       "       [0.0078534 ],\n",
       "       [0.0039267 ],\n",
       "       [0.0039267 ],\n",
       "       [0.0013089 ],\n",
       "       [0.0039267 ],\n",
       "       [0.0013089 ],\n",
       "       [0.0078534 ],\n",
       "       [0.0013089 ],\n",
       "       [0.0052356 ],\n",
       "       [0.0091623 ],\n",
       "       [0.01439791],\n",
       "       [0.0013089 ],\n",
       "       [0.0052356 ],\n",
       "       [0.        ],\n",
       "       [0.0026178 ],\n",
       "       [0.0065445 ],\n",
       "       [0.0117801 ],\n",
       "       [0.0065445 ],\n",
       "       [0.0026178 ],\n",
       "       [0.0117801 ],\n",
       "       [0.0039267 ],\n",
       "       [0.        ],\n",
       "       [0.0013089 ],\n",
       "       [0.        ],\n",
       "       [0.0065445 ],\n",
       "       [0.0026178 ],\n",
       "       [0.0052356 ],\n",
       "       [0.9973822 ],\n",
       "       [0.01439791],\n",
       "       [0.0026178 ],\n",
       "       [0.0052356 ],\n",
       "       [0.0052356 ],\n",
       "       [0.0052356 ],\n",
       "       [0.0065445 ],\n",
       "       [0.01439791],\n",
       "       [0.0078534 ],\n",
       "       [0.02225131],\n",
       "       [0.02748691],\n",
       "       [0.0117801 ],\n",
       "       [0.01570681],\n",
       "       [0.0052356 ],\n",
       "       [0.0052356 ],\n",
       "       [0.0013089 ],\n",
       "       [0.0052356 ],\n",
       "       [0.0026178 ],\n",
       "       [0.0065445 ],\n",
       "       [0.0065445 ],\n",
       "       [0.0052356 ],\n",
       "       [0.01308901],\n",
       "       [0.0013089 ],\n",
       "       [0.0117801 ],\n",
       "       [0.0026178 ],\n",
       "       [0.0091623 ],\n",
       "       [0.0052356 ],\n",
       "       [0.        ],\n",
       "       [0.01963351],\n",
       "       [0.0026178 ],\n",
       "       [0.0039267 ],\n",
       "       [0.0065445 ],\n",
       "       [0.0065445 ],\n",
       "       [0.0052356 ],\n",
       "       [0.0052356 ],\n",
       "       [0.0013089 ],\n",
       "       [0.0013089 ],\n",
       "       [0.0026178 ],\n",
       "       [0.0039267 ],\n",
       "       [0.02094241],\n",
       "       [0.0013089 ],\n",
       "       [0.0013089 ],\n",
       "       [0.9973822 ],\n",
       "       [0.0013089 ],\n",
       "       [0.01963351],\n",
       "       [0.0013089 ],\n",
       "       [0.0065445 ],\n",
       "       [0.01570681],\n",
       "       [0.0065445 ],\n",
       "       [0.0104712 ],\n",
       "       [0.0065445 ],\n",
       "       [0.0026178 ],\n",
       "       [0.0078534 ],\n",
       "       [0.0026178 ],\n",
       "       [0.0052356 ],\n",
       "       [0.        ],\n",
       "       [0.01439791],\n",
       "       [0.0026178 ],\n",
       "       [0.0039267 ],\n",
       "       [0.0117801 ],\n",
       "       [0.0013089 ],\n",
       "       [0.0117801 ],\n",
       "       [0.01308901],\n",
       "       [0.0078534 ],\n",
       "       [0.0078534 ],\n",
       "       [0.0117801 ],\n",
       "       [0.0026178 ],\n",
       "       [0.0039267 ],\n",
       "       [0.0026178 ],\n",
       "       [0.0026178 ],\n",
       "       [0.98560209],\n",
       "       [0.9973822 ],\n",
       "       [0.0052356 ],\n",
       "       [0.02356021],\n",
       "       [0.0013089 ],\n",
       "       [0.0065445 ],\n",
       "       [0.0117801 ],\n",
       "       [0.0026178 ],\n",
       "       [0.0065445 ],\n",
       "       [0.0117801 ],\n",
       "       [0.0091623 ],\n",
       "       [0.0065445 ],\n",
       "       [0.0078534 ],\n",
       "       [0.0039267 ],\n",
       "       [0.0104712 ],\n",
       "       [0.0039267 ],\n",
       "       [0.0065445 ],\n",
       "       [0.02356021],\n",
       "       [0.0065445 ],\n",
       "       [0.0039267 ],\n",
       "       [0.0091623 ],\n",
       "       [0.0039267 ],\n",
       "       [0.0052356 ],\n",
       "       [0.0013089 ],\n",
       "       [0.0039267 ],\n",
       "       [0.02225131],\n",
       "       [0.0052356 ],\n",
       "       [0.02617801],\n",
       "       [0.0065445 ],\n",
       "       [0.03141361],\n",
       "       [0.0039267 ],\n",
       "       [0.01832461],\n",
       "       [0.02617801],\n",
       "       [0.01439791],\n",
       "       [0.01570681],\n",
       "       [0.0052356 ],\n",
       "       [0.02617801],\n",
       "       [0.01439791],\n",
       "       [0.01832461],\n",
       "       [0.01701571],\n",
       "       [0.0078534 ],\n",
       "       [0.0104712 ],\n",
       "       [0.01832461],\n",
       "       [0.03795812],\n",
       "       [0.0039267 ],\n",
       "       [0.02748691],\n",
       "       [0.02879581],\n",
       "       [1.        ],\n",
       "       [0.0052356 ],\n",
       "       [0.0117801 ],\n",
       "       [0.01570681],\n",
       "       [0.03403141],\n",
       "       [0.0078534 ],\n",
       "       [0.0104712 ],\n",
       "       [0.01570681],\n",
       "       [0.0039267 ],\n",
       "       [0.0039267 ],\n",
       "       [0.0065445 ],\n",
       "       [0.0117801 ],\n",
       "       [0.0039267 ],\n",
       "       [0.0026178 ],\n",
       "       [0.0039267 ],\n",
       "       [0.0013089 ],\n",
       "       [0.0104712 ],\n",
       "       [0.0013089 ],\n",
       "       [0.01439791],\n",
       "       [0.0039267 ],\n",
       "       [0.0117801 ],\n",
       "       [0.01832461],\n",
       "       [0.0039267 ],\n",
       "       [0.0039267 ],\n",
       "       [0.0078534 ],\n",
       "       [0.0078534 ],\n",
       "       [0.0026178 ],\n",
       "       [0.0039267 ],\n",
       "       [0.0078534 ],\n",
       "       [0.0026178 ],\n",
       "       [0.0065445 ],\n",
       "       [0.0052356 ],\n",
       "       [0.0013089 ],\n",
       "       [0.0104712 ],\n",
       "       [0.0052356 ],\n",
       "       [0.0039267 ],\n",
       "       [0.01308901],\n",
       "       [0.0091623 ],\n",
       "       [0.        ],\n",
       "       [0.        ],\n",
       "       [0.0052356 ],\n",
       "       [0.0013089 ],\n",
       "       [0.        ],\n",
       "       [0.        ],\n",
       "       [0.0039267 ],\n",
       "       [0.0013089 ],\n",
       "       [0.01701571],\n",
       "       [0.0026178 ],\n",
       "       [0.0052356 ],\n",
       "       [0.0065445 ],\n",
       "       [0.0013089 ],\n",
       "       [0.0065445 ],\n",
       "       [0.0078534 ],\n",
       "       [0.0078534 ],\n",
       "       [0.0013089 ],\n",
       "       [0.0091623 ],\n",
       "       [0.0117801 ],\n",
       "       [0.0026178 ],\n",
       "       [0.0065445 ],\n",
       "       [0.0091623 ],\n",
       "       [0.0104712 ],\n",
       "       [0.0091623 ],\n",
       "       [0.0039267 ],\n",
       "       [0.0026178 ],\n",
       "       [0.0078534 ],\n",
       "       [0.0052356 ],\n",
       "       [0.0052356 ],\n",
       "       [0.0039267 ],\n",
       "       [0.0065445 ],\n",
       "       [0.0039267 ],\n",
       "       [0.0052356 ],\n",
       "       [0.0078534 ],\n",
       "       [0.0039267 ],\n",
       "       [0.01308901],\n",
       "       [0.0091623 ],\n",
       "       [0.0065445 ],\n",
       "       [0.0052356 ],\n",
       "       [0.0052356 ],\n",
       "       [0.0078534 ],\n",
       "       [0.0039267 ],\n",
       "       [0.0013089 ],\n",
       "       [0.0091623 ],\n",
       "       [0.0013089 ],\n",
       "       [0.0078534 ],\n",
       "       [0.0078534 ],\n",
       "       [0.0065445 ],\n",
       "       [0.0117801 ],\n",
       "       [0.0104712 ],\n",
       "       [0.0065445 ],\n",
       "       [0.0065445 ],\n",
       "       [0.01308901],\n",
       "       [0.01832461],\n",
       "       [0.01308901],\n",
       "       [0.0065445 ],\n",
       "       [0.0065445 ],\n",
       "       [0.0104712 ],\n",
       "       [0.0065445 ],\n",
       "       [0.0052356 ],\n",
       "       [0.0117801 ],\n",
       "       [0.        ],\n",
       "       [0.0117801 ],\n",
       "       [0.0039267 ],\n",
       "       [0.0026178 ],\n",
       "       [0.0078534 ],\n",
       "       [0.0013089 ],\n",
       "       [0.        ],\n",
       "       [0.0026178 ],\n",
       "       [0.        ],\n",
       "       [0.01439791],\n",
       "       [0.0013089 ],\n",
       "       [0.01439791],\n",
       "       [0.0039267 ],\n",
       "       [0.0013089 ],\n",
       "       [0.0039267 ],\n",
       "       [0.0065445 ],\n",
       "       [0.        ],\n",
       "       [0.0026178 ],\n",
       "       [0.0065445 ],\n",
       "       [0.0104712 ],\n",
       "       [0.0039267 ],\n",
       "       [0.0117801 ],\n",
       "       [0.0065445 ],\n",
       "       [0.0013089 ],\n",
       "       [0.0078534 ],\n",
       "       [0.0013089 ],\n",
       "       [0.0039267 ],\n",
       "       [0.01570681],\n",
       "       [0.0104712 ],\n",
       "       [0.0026178 ],\n",
       "       [0.0117801 ],\n",
       "       [0.02356021],\n",
       "       [0.0052356 ],\n",
       "       [0.02486911],\n",
       "       [0.0026178 ],\n",
       "       [0.0078534 ],\n",
       "       [0.0039267 ],\n",
       "       [0.01439791],\n",
       "       [0.        ],\n",
       "       [0.04188482],\n",
       "       [0.0052356 ],\n",
       "       [0.03141361],\n",
       "       [0.0013089 ],\n",
       "       [0.01308901],\n",
       "       [0.0078534 ],\n",
       "       [0.9934555 ],\n",
       "       [0.01832461],\n",
       "       [0.0013089 ],\n",
       "       [0.0104712 ],\n",
       "       [0.0026178 ],\n",
       "       [0.0052356 ],\n",
       "       [0.01570681],\n",
       "       [0.0026178 ],\n",
       "       [0.02094241],\n",
       "       [0.0039267 ],\n",
       "       [0.0013089 ],\n",
       "       [0.01701571],\n",
       "       [0.0039267 ],\n",
       "       [0.0039267 ],\n",
       "       [0.01570681],\n",
       "       [0.0013089 ],\n",
       "       [0.0039267 ],\n",
       "       [0.0091623 ],\n",
       "       [0.0026178 ],\n",
       "       [0.0117801 ],\n",
       "       [0.        ],\n",
       "       [0.0091623 ],\n",
       "       [1.        ],\n",
       "       [0.0039267 ],\n",
       "       [0.0013089 ],\n",
       "       [0.0091623 ],\n",
       "       [0.0078534 ],\n",
       "       [0.0052356 ],\n",
       "       [0.01308901],\n",
       "       [0.0078534 ],\n",
       "       [0.02486911],\n",
       "       [0.0091623 ],\n",
       "       [0.01439791],\n",
       "       [0.9947644 ],\n",
       "       [0.        ],\n",
       "       [0.02748691],\n",
       "       [0.0013089 ],\n",
       "       [0.02356021],\n",
       "       [0.0013089 ],\n",
       "       [0.0091623 ],\n",
       "       [0.0065445 ],\n",
       "       [0.01439791],\n",
       "       [0.0052356 ],\n",
       "       [0.0052356 ],\n",
       "       [0.0065445 ],\n",
       "       [0.0065445 ],\n",
       "       [0.0052356 ],\n",
       "       [0.0052356 ],\n",
       "       [0.0065445 ],\n",
       "       [0.0039267 ],\n",
       "       [0.01832461],\n",
       "       [0.0104712 ],\n",
       "       [0.0026178 ],\n",
       "       [0.0091623 ],\n",
       "       [0.0104712 ],\n",
       "       [0.0013089 ],\n",
       "       [0.0026178 ],\n",
       "       [0.01308901],\n",
       "       [0.0039267 ],\n",
       "       [0.0052356 ],\n",
       "       [0.0026178 ],\n",
       "       [0.0091623 ],\n",
       "       [0.0013089 ],\n",
       "       [0.0078534 ],\n",
       "       [0.01308901],\n",
       "       [0.01570681],\n",
       "       [0.        ],\n",
       "       [0.        ],\n",
       "       [0.0039267 ],\n",
       "       [0.0052356 ],\n",
       "       [0.0026178 ],\n",
       "       [0.0052356 ],\n",
       "       [0.0117801 ],\n",
       "       [0.        ],\n",
       "       [0.0039267 ],\n",
       "       [0.0052356 ],\n",
       "       [0.0065445 ],\n",
       "       [0.0091623 ],\n",
       "       [0.01439791],\n",
       "       [0.01439791],\n",
       "       [0.0039267 ],\n",
       "       [0.0104712 ],\n",
       "       [0.0104712 ],\n",
       "       [0.01439791],\n",
       "       [0.0039267 ],\n",
       "       [0.0065445 ],\n",
       "       [0.01701571],\n",
       "       [0.0052356 ],\n",
       "       [0.0104712 ],\n",
       "       [0.0039267 ],\n",
       "       [0.0104712 ],\n",
       "       [0.0013089 ],\n",
       "       [0.0065445 ],\n",
       "       [0.0026178 ],\n",
       "       [0.01701571],\n",
       "       [0.0091623 ],\n",
       "       [0.0091623 ],\n",
       "       [0.0091623 ],\n",
       "       [0.02617801],\n",
       "       [0.0117801 ],\n",
       "       [0.0091623 ],\n",
       "       [0.0065445 ],\n",
       "       [0.02617801],\n",
       "       [0.0013089 ],\n",
       "       [0.01308901],\n",
       "       [0.0078534 ],\n",
       "       [0.0104712 ],\n",
       "       [0.0026178 ],\n",
       "       [0.02748691],\n",
       "       [0.02094241],\n",
       "       [0.03664921],\n",
       "       [0.9895288 ],\n",
       "       [0.0091623 ],\n",
       "       [0.01963351],\n",
       "       [0.0013089 ],\n",
       "       [0.0117801 ],\n",
       "       [0.0117801 ],\n",
       "       [0.01308901],\n",
       "       [0.0013089 ],\n",
       "       [0.01701571],\n",
       "       [0.0052356 ],\n",
       "       [0.0091623 ],\n",
       "       [0.03141361],\n",
       "       [0.02486911],\n",
       "       [0.9960733 ],\n",
       "       [0.0026178 ],\n",
       "       [0.01701571],\n",
       "       [0.0013089 ],\n",
       "       [0.03272251],\n",
       "       [0.0117801 ],\n",
       "       [0.01963351],\n",
       "       [0.0091623 ],\n",
       "       [0.03272251],\n",
       "       [0.0013089 ],\n",
       "       [0.0039267 ]])"
      ]
     },
     "execution_count": 115,
     "metadata": {},
     "output_type": "execute_result"
    }
   ],
   "source": [
    "I[:,-1].reshape(510,1)"
   ]
  },
  {
   "cell_type": "code",
   "execution_count": null,
   "metadata": {},
   "outputs": [],
   "source": []
  },
  {
   "cell_type": "markdown",
   "metadata": {},
   "source": [
    "- backward difference : $ I[x, y] - I[x, y-1] $ "
   ]
  },
  {
   "cell_type": "code",
   "execution_count": null,
   "metadata": {},
   "outputs": [],
   "source": [
    "def compute_derivative_y_backward(I):\n",
    "    \n",
    "    D = np.zeros(I.shape)\n",
    "    \n",
    "    # ++++++++++++++++++++++++++++++++++++++++++++++++++\n",
    "    # complete the blanks\n",
    "    #\n",
    "    \n",
    "    \n",
    "    \n",
    "    #\n",
    "    # ++++++++++++++++++++++++++++++++++++++++++++++++++\n",
    "    \n",
    "    return D"
   ]
  },
  {
   "cell_type": "markdown",
   "metadata": {},
   "source": [
    "- central difference : $ \\frac{1}{2} \\left( I[x, y+1] - I[x, y-1] \\right)$ "
   ]
  },
  {
   "cell_type": "code",
   "execution_count": null,
   "metadata": {},
   "outputs": [],
   "source": [
    "def compute_derivative_y_central(I):\n",
    "    \n",
    "    D = np.zeros(I.shape)\n",
    "    \n",
    "    # ++++++++++++++++++++++++++++++++++++++++++++++++++\n",
    "    # complete the blanks\n",
    "    #\n",
    "    \n",
    "    \n",
    "    \n",
    "    #\n",
    "    # ++++++++++++++++++++++++++++++++++++++++++++++++++\n",
    "    \n",
    "    return D"
   ]
  },
  {
   "cell_type": "markdown",
   "metadata": {},
   "source": [
    "## compute the norm of the gradient of the input image "
   ]
  },
  {
   "cell_type": "markdown",
   "metadata": {},
   "source": [
    "- $L_2^2$-norm of the gradient $ \\left( \\frac{\\partial I}{\\partial x}, \\frac{\\partial I}{\\partial y} \\right) $ is defined by $ \\left( \\frac{\\partial I}{\\partial x} \\right)^2 + \\left( \\frac{\\partial I}{\\partial y} \\right)^2 $"
   ]
  },
  {
   "cell_type": "code",
   "execution_count": null,
   "metadata": {},
   "outputs": [],
   "source": [
    "def compute_norm_gradient_central(I):\n",
    "    \n",
    "    norm_gradient = np.zeros(I.shape)\n",
    "    \n",
    "    # ++++++++++++++++++++++++++++++++++++++++++++++++++\n",
    "    # complete the blanks\n",
    "    #\n",
    "    \n",
    "    \n",
    "    \n",
    "    #\n",
    "    # ++++++++++++++++++++++++++++++++++++++++++++++++++\n",
    "    \n",
    "    return norm_gradient"
   ]
  },
  {
   "cell_type": "markdown",
   "metadata": {},
   "source": [
    "___"
   ]
  },
  {
   "cell_type": "markdown",
   "metadata": {},
   "source": [
    "___"
   ]
  },
  {
   "cell_type": "markdown",
   "metadata": {},
   "source": [
    "## functions for presenting the results"
   ]
  },
  {
   "cell_type": "markdown",
   "metadata": {},
   "source": [
    "___"
   ]
  },
  {
   "cell_type": "markdown",
   "metadata": {},
   "source": [
    "___"
   ]
  },
  {
   "cell_type": "code",
   "execution_count": null,
   "metadata": {},
   "outputs": [],
   "source": [
    "def function_result_01():\n",
    "    \n",
    "    plt.figure(figsize=(8,6))\n",
    "    plt.imshow(I0)\n",
    "    plt.show()"
   ]
  },
  {
   "cell_type": "code",
   "execution_count": null,
   "metadata": {},
   "outputs": [],
   "source": [
    "def function_result_02():\n",
    "    \n",
    "    plt.figure(figsize=(8,6))\n",
    "    plt.imshow(I, cmap='gray', vmin=0, vmax=1, interpolation='none')\n",
    "    plt.show()"
   ]
  },
  {
   "cell_type": "code",
   "execution_count": null,
   "metadata": {},
   "outputs": [],
   "source": [
    "def function_result_03():\n",
    "\n",
    "    D = compute_derivative_x_forward(I)\n",
    "    \n",
    "    plt.figure(figsize=(8,6))\n",
    "    plt.imshow(D, cmap='gray')\n",
    "    plt.show()"
   ]
  },
  {
   "cell_type": "code",
   "execution_count": null,
   "metadata": {},
   "outputs": [],
   "source": [
    "def function_result_04():\n",
    "\n",
    "    D = compute_derivative_x_backward(I)\n",
    "    \n",
    "    plt.figure(figsize=(8,6))\n",
    "    plt.imshow(D, cmap='gray')\n",
    "    plt.show()"
   ]
  },
  {
   "cell_type": "code",
   "execution_count": null,
   "metadata": {},
   "outputs": [],
   "source": [
    "def function_result_05():\n",
    "\n",
    "    D = compute_derivative_x_central(I)\n",
    "    \n",
    "    plt.figure(figsize=(8,6))\n",
    "    plt.imshow(D, cmap='gray')\n",
    "    plt.show()"
   ]
  },
  {
   "cell_type": "code",
   "execution_count": null,
   "metadata": {},
   "outputs": [],
   "source": [
    "def function_result_06():\n",
    "\n",
    "    D = compute_derivative_y_forward(I)\n",
    "    \n",
    "    plt.figure(figsize=(8,6))\n",
    "    plt.imshow(D, cmap='gray')\n",
    "    plt.show()"
   ]
  },
  {
   "cell_type": "code",
   "execution_count": null,
   "metadata": {},
   "outputs": [],
   "source": [
    "def function_result_07():\n",
    "\n",
    "    D = compute_derivative_y_backward(I)\n",
    "    \n",
    "    plt.figure(figsize=(8,6))\n",
    "    plt.imshow(D, cmap='gray')\n",
    "    plt.show()"
   ]
  },
  {
   "cell_type": "code",
   "execution_count": null,
   "metadata": {},
   "outputs": [],
   "source": [
    "def function_result_08():\n",
    "\n",
    "    D = compute_derivative_y_central(I)\n",
    "    \n",
    "    plt.figure(figsize=(8,6))\n",
    "    plt.imshow(D, cmap='gray')\n",
    "    plt.show()"
   ]
  },
  {
   "cell_type": "code",
   "execution_count": null,
   "metadata": {},
   "outputs": [],
   "source": [
    "def function_result_09():\n",
    "\n",
    "    D = compute_norm_gradient_central(I)\n",
    "    \n",
    "    plt.figure(figsize=(8,6))\n",
    "    plt.imshow(D, cmap='gray')\n",
    "    plt.show()"
   ]
  },
  {
   "cell_type": "code",
   "execution_count": null,
   "metadata": {},
   "outputs": [],
   "source": [
    "def function_result_10():\n",
    "\n",
    "    D = compute_norm_gradient_central(I)\n",
    "    \n",
    "    plt.figure(figsize=(8,6))\n",
    "    im = plt.imshow(D, cmap=cm.jet, norm=colors.LogNorm())\n",
    "    plt.colorbar(im)\n",
    "    plt.show()"
   ]
  },
  {
   "cell_type": "code",
   "execution_count": null,
   "metadata": {},
   "outputs": [],
   "source": [
    "def function_result_11():\n",
    "\n",
    "    D = compute_derivative_x_forward(I)\n",
    "\n",
    "    value1 = D[0, 0]    \n",
    "    value2 = D[-1, -1]    \n",
    "    value3 = D[100, 100]    \n",
    "    value4 = D[200, 200]\n",
    "\n",
    "    print('value1 = ', value1)\n",
    "    print('value2 = ', value2)\n",
    "    print('value3 = ', value3)\n",
    "    print('value4 = ', value4)\n"
   ]
  },
  {
   "cell_type": "code",
   "execution_count": null,
   "metadata": {},
   "outputs": [],
   "source": [
    "def function_result_12():\n",
    "\n",
    "    D = compute_derivative_x_backward(I)\n",
    "\n",
    "    value1 = D[0, 0]    \n",
    "    value2 = D[-1, -1]    \n",
    "    value3 = D[100, 100]    \n",
    "    value4 = D[200, 200]\n",
    "\n",
    "    print('value1 = ', value1)\n",
    "    print('value2 = ', value2)\n",
    "    print('value3 = ', value3)\n",
    "    print('value4 = ', value4)\n"
   ]
  },
  {
   "cell_type": "code",
   "execution_count": null,
   "metadata": {},
   "outputs": [],
   "source": [
    "def function_result_13():\n",
    "\n",
    "    D = compute_derivative_x_central(I)\n",
    "\n",
    "    value1 = D[0, 0]    \n",
    "    value2 = D[-1, -1]    \n",
    "    value3 = D[100, 100]    \n",
    "    value4 = D[200, 200]\n",
    "\n",
    "    print('value1 = ', value1)\n",
    "    print('value2 = ', value2)\n",
    "    print('value3 = ', value3)\n",
    "    print('value4 = ', value4)\n"
   ]
  },
  {
   "cell_type": "code",
   "execution_count": null,
   "metadata": {},
   "outputs": [],
   "source": [
    "def function_result_14():\n",
    "\n",
    "    D = compute_derivative_y_forward(I)\n",
    "\n",
    "    value1 = D[0, 0]    \n",
    "    value2 = D[-1, -1]    \n",
    "    value3 = D[100, 100]    \n",
    "    value4 = D[200, 200]\n",
    "\n",
    "    print('value1 = ', value1)\n",
    "    print('value2 = ', value2)\n",
    "    print('value3 = ', value3)\n",
    "    print('value4 = ', value4)\n"
   ]
  },
  {
   "cell_type": "code",
   "execution_count": null,
   "metadata": {},
   "outputs": [],
   "source": [
    "def function_result_15():\n",
    "\n",
    "    D = compute_derivative_y_backward(I)\n",
    "\n",
    "    value1 = D[0, 0]    \n",
    "    value2 = D[-1, -1]    \n",
    "    value3 = D[100, 100]    \n",
    "    value4 = D[200, 200]\n",
    "\n",
    "    print('value1 = ', value1)\n",
    "    print('value2 = ', value2)\n",
    "    print('value3 = ', value3)\n",
    "    print('value4 = ', value4)\n"
   ]
  },
  {
   "cell_type": "code",
   "execution_count": null,
   "metadata": {},
   "outputs": [],
   "source": [
    "def function_result_16():\n",
    "\n",
    "    D = compute_derivative_y_central(I)\n",
    "\n",
    "    value1 = D[0, 0]    \n",
    "    value2 = D[-1, -1]    \n",
    "    value3 = D[100, 100]    \n",
    "    value4 = D[200, 200]\n",
    "\n",
    "    print('value1 = ', value1)\n",
    "    print('value2 = ', value2)\n",
    "    print('value3 = ', value3)\n",
    "    print('value4 = ', value4)\n"
   ]
  },
  {
   "cell_type": "code",
   "execution_count": null,
   "metadata": {},
   "outputs": [],
   "source": [
    "def function_result_17():\n",
    "\n",
    "    D = compute_norm_gradient_central(I)\n",
    "\n",
    "    value1 = D[0, 0]    \n",
    "    value2 = D[-1, -1]    \n",
    "    value3 = D[100, 100]    \n",
    "    value4 = D[200, 200]\n",
    "\n",
    "    print('value1 = ', value1)\n",
    "    print('value2 = ', value2)\n",
    "    print('value3 = ', value3)\n",
    "    print('value4 = ', value4)\n"
   ]
  },
  {
   "cell_type": "markdown",
   "metadata": {},
   "source": [
    "___"
   ]
  },
  {
   "cell_type": "markdown",
   "metadata": {},
   "source": [
    "___"
   ]
  },
  {
   "cell_type": "markdown",
   "metadata": {},
   "source": [
    "# results"
   ]
  },
  {
   "cell_type": "markdown",
   "metadata": {},
   "source": [
    "___"
   ]
  },
  {
   "cell_type": "markdown",
   "metadata": {},
   "source": [
    "___"
   ]
  },
  {
   "cell_type": "code",
   "execution_count": null,
   "metadata": {},
   "outputs": [],
   "source": [
    "number_result = 17\n",
    "\n",
    "for i in range(number_result):\n",
    "    title = '## [RESULT {:02d}]'.format(i+1)\n",
    "    name_function = 'function_result_{:02d}()'.format(i+1)\n",
    "\n",
    "    print('**************************************************')\n",
    "    print(title)\n",
    "    print('**************************************************')\n",
    "    eval(name_function)"
   ]
  },
  {
   "cell_type": "code",
   "execution_count": null,
   "metadata": {},
   "outputs": [],
   "source": []
  }
 ],
 "metadata": {
  "kernelspec": {
   "display_name": "Python 3",
   "language": "python",
   "name": "python3"
  },
  "language_info": {
   "codemirror_mode": {
    "name": "ipython",
    "version": 3
   },
   "file_extension": ".py",
   "mimetype": "text/x-python",
   "name": "python",
   "nbconvert_exporter": "python",
   "pygments_lexer": "ipython3",
   "version": "3.8.8"
  }
 },
 "nbformat": 4,
 "nbformat_minor": 2
}
