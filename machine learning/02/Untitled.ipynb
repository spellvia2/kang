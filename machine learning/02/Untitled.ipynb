{
 "cells": [
  {
   "cell_type": "code",
   "execution_count": 2,
   "id": "40fe8181",
   "metadata": {},
   "outputs": [],
   "source": [
    "import numpy as np \n",
    "x           = np.array([[1.,2.,3.],[4.,5.,6.]])\n",
    "size_x      = x.shape\n",
    "\n",
    "y           = np.array([[10.,20.,30.],[40.,50.,60.]])\n",
    "size_y      = y.shape\n",
    "\n",
    "z           = np.array([2.])\n",
    "size_z      = z.shape"
   ]
  },
  {
   "cell_type": "code",
   "execution_count": 3,
   "id": "315aba69",
   "metadata": {},
   "outputs": [
    {
     "data": {
      "text/plain": [
       "array([[11., 22., 33.],\n",
       "       [44., 55., 66.]])"
      ]
     },
     "execution_count": 3,
     "metadata": {},
     "output_type": "execute_result"
    }
   ],
   "source": [
    "x+y"
   ]
  },
  {
   "cell_type": "code",
   "execution_count": 4,
   "id": "cc0d5ff6",
   "metadata": {},
   "outputs": [
    {
     "data": {
      "text/plain": [
       "array([[-1.,  0.,  1.],\n",
       "       [ 2.,  3.,  4.]])"
      ]
     },
     "execution_count": 4,
     "metadata": {},
     "output_type": "execute_result"
    }
   ],
   "source": [
    "x-z"
   ]
  },
  {
   "cell_type": "code",
   "execution_count": 5,
   "id": "22e82982",
   "metadata": {},
   "outputs": [
    {
     "data": {
      "text/plain": [
       "array([[11., 22., 33.],\n",
       "       [44., 55., 66.]])"
      ]
     },
     "execution_count": 5,
     "metadata": {},
     "output_type": "execute_result"
    }
   ],
   "source": [
    "np.add(x,y)"
   ]
  },
  {
   "cell_type": "code",
   "execution_count": null,
   "id": "76b9e449",
   "metadata": {},
   "outputs": [],
   "source": [
    "np.multiply(x,z)"
   ]
  },
  {
   "cell_type": "code",
   "execution_count": null,
   "id": "72e7c102",
   "metadata": {},
   "outputs": [],
   "source": []
  },
  {
   "cell_type": "code",
   "execution_count": 6,
   "id": "1d9c42f8",
   "metadata": {},
   "outputs": [],
   "source": [
    "A       = np.array([[1.,2.],[3.,4.],[5.,6.]])\n",
    "size_A  = A.shape\n",
    "\n",
    "x       = x = np.array([[10.],[20.]])\n",
    "size_x  = x.shape"
   ]
  },
  {
   "cell_type": "code",
   "execution_count": 7,
   "id": "8480b523",
   "metadata": {},
   "outputs": [
    {
     "ename": "ValueError",
     "evalue": "operands could not be broadcast together with shapes (3,2) (2,1) ",
     "output_type": "error",
     "traceback": [
      "\u001b[1;31m---------------------------------------------------------------------------\u001b[0m",
      "\u001b[1;31mValueError\u001b[0m                                Traceback (most recent call last)",
      "\u001b[1;32m<ipython-input-7-27664ac55e18>\u001b[0m in \u001b[0;36m<module>\u001b[1;34m\u001b[0m\n\u001b[1;32m----> 1\u001b[1;33m \u001b[0mA\u001b[0m\u001b[1;33m*\u001b[0m\u001b[0mx\u001b[0m\u001b[1;33m\u001b[0m\u001b[1;33m\u001b[0m\u001b[0m\n\u001b[0m",
      "\u001b[1;31mValueError\u001b[0m: operands could not be broadcast together with shapes (3,2) (2,1) "
     ]
    }
   ],
   "source": [
    "np."
   ]
  },
  {
   "cell_type": "code",
   "execution_count": null,
   "id": "da1b3969",
   "metadata": {},
   "outputs": [],
   "source": []
  }
 ],
 "metadata": {
  "kernelspec": {
   "display_name": "Python 3",
   "language": "python",
   "name": "python3"
  },
  "language_info": {
   "codemirror_mode": {
    "name": "ipython",
    "version": 3
   },
   "file_extension": ".py",
   "mimetype": "text/x-python",
   "name": "python",
   "nbconvert_exporter": "python",
   "pygments_lexer": "ipython3",
   "version": "3.8.8"
  }
 },
 "nbformat": 4,
 "nbformat_minor": 5
}
