{
 "cells": [
  {
   "cell_type": "code",
   "execution_count": 2,
   "id": "65cc56ea",
   "metadata": {},
   "outputs": [],
   "source": [
    "import numpy as np \n",
    "x           = np.array([[1.,2.,3.],[4.,5.,6.]])\n",
    "size_x      = x.shape\n",
    "\n",
    "y           = np.array([[10.,20.,30.],[40.,50.,60.]])\n",
    "size_y      = y.shape\n",
    "\n",
    "z           = np.array([2.])\n",
    "size_z      = z.shape"
   ]
  },
  {
   "cell_type": "code",
   "execution_count": 3,
   "id": "e20ef247",
   "metadata": {},
   "outputs": [
    {
     "data": {
      "text/plain": [
       "array([[11., 22., 33.],\n",
       "       [44., 55., 66.]])"
      ]
     },
     "execution_count": 3,
     "metadata": {},
     "output_type": "execute_result"
    }
   ],
   "source": [
    "x+y"
   ]
  },
  {
   "cell_type": "code",
   "execution_count": 4,
   "id": "c5d2fb57",
   "metadata": {},
   "outputs": [
    {
     "data": {
      "text/plain": [
       "array([[-1.,  0.,  1.],\n",
       "       [ 2.,  3.,  4.]])"
      ]
     },
     "execution_count": 4,
     "metadata": {},
     "output_type": "execute_result"
    }
   ],
   "source": [
    "x-z"
   ]
  },
  {
   "cell_type": "code",
   "execution_count": 5,
   "id": "3e7b12c0",
   "metadata": {},
   "outputs": [
    {
     "data": {
      "text/plain": [
       "array([[11., 22., 33.],\n",
       "       [44., 55., 66.]])"
      ]
     },
     "execution_count": 5,
     "metadata": {},
     "output_type": "execute_result"
    }
   ],
   "source": [
    "np.add(x,y)"
   ]
  },
  {
   "cell_type": "code",
   "execution_count": null,
   "id": "319f1616",
   "metadata": {},
   "outputs": [],
   "source": [
    "np.multiply(x,z)"
   ]
  },
  {
   "cell_type": "code",
   "execution_count": null,
   "id": "df2f8665",
   "metadata": {},
   "outputs": [],
   "source": []
  },
  {
   "cell_type": "code",
   "execution_count": 6,
   "id": "f87a777c",
   "metadata": {},
   "outputs": [],
   "source": [
    "A       = np.array([[1.,2.],[3.,4.],[5.,6.]])\n",
    "size_A  = A.shape\n",
    "\n",
    "x       = x = np.array([[10.],[20.]])\n",
    "size_x  = x.shape"
   ]
  },
  {
   "cell_type": "code",
   "execution_count": 8,
   "id": "18f060ba",
   "metadata": {},
   "outputs": [
    {
     "data": {
      "text/plain": [
       "array([[ 50.],\n",
       "       [110.],\n",
       "       [170.]])"
      ]
     },
     "execution_count": 8,
     "metadata": {},
     "output_type": "execute_result"
    }
   ],
   "source": [
    "np.dot(A,x)"
   ]
  },
  {
   "cell_type": "code",
   "execution_count": 9,
   "id": "7e0ae77a",
   "metadata": {},
   "outputs": [],
   "source": [
    "A       = np.array([[1.,2.],[3.,4.],[5.,6.]])\n",
    "size_A  = A.shape\n",
    "\n",
    "X     = np.array([[10.,20.],[30.,40.]]) \n",
    "size_X  = X.shape\n",
    "\n",
    "Y       = np.dot(A,X)\n",
    "size_Y  = Y.shape"
   ]
  },
  {
   "cell_type": "code",
   "execution_count": 11,
   "id": "27dea576",
   "metadata": {},
   "outputs": [
    {
     "data": {
      "text/plain": [
       "(2, 2)"
      ]
     },
     "execution_count": 11,
     "metadata": {},
     "output_type": "execute_result"
    }
   ],
   "source": [
    "size_Y"
   ]
  },
  {
   "cell_type": "code",
   "execution_count": 12,
   "id": "adc10157",
   "metadata": {},
   "outputs": [],
   "source": [
    "A                   = np.array([[1.,2.],[3.,4.]])\n",
    "size_A              = A.shape\n",
    "\n",
    "AT                  = np.transpose(A)\n",
    "size_AT             = AT.shape\n"
   ]
  },
  {
   "cell_type": "code",
   "execution_count": 13,
   "id": "a95413f4",
   "metadata": {},
   "outputs": [
    {
     "data": {
      "text/plain": [
       "array([[1., 3.],\n",
       "       [2., 4.]])"
      ]
     },
     "execution_count": 13,
     "metadata": {},
     "output_type": "execute_result"
    }
   ],
   "source": [
    "AT"
   ]
  },
  {
   "cell_type": "code",
   "execution_count": 14,
   "id": "5c01fd4b",
   "metadata": {},
   "outputs": [
    {
     "data": {
      "text/plain": [
       "array([[10., 14.],\n",
       "       [14., 20.]])"
      ]
     },
     "execution_count": 14,
     "metadata": {},
     "output_type": "execute_result"
    }
   ],
   "source": [
    "np.dot(AT,A)"
   ]
  },
  {
   "cell_type": "code",
   "execution_count": 17,
   "id": "fd285f00",
   "metadata": {},
   "outputs": [
    {
     "data": {
      "text/plain": [
       "array([[-2. ,  1. ],\n",
       "       [ 1.5, -0.5]])"
      ]
     },
     "execution_count": 17,
     "metadata": {},
     "output_type": "execute_result"
    }
   ],
   "source": [
    " np.linalg.inv(A)"
   ]
  }
 ],
 "metadata": {
  "kernelspec": {
   "display_name": "Python 3",
   "language": "python",
   "name": "python3"
  },
  "language_info": {
   "codemirror_mode": {
    "name": "ipython",
    "version": 3
   },
   "file_extension": ".py",
   "mimetype": "text/x-python",
   "name": "python",
   "nbconvert_exporter": "python",
   "pygments_lexer": "ipython3",
   "version": "3.8.8"
  }
 },
 "nbformat": 4,
 "nbformat_minor": 5
}
