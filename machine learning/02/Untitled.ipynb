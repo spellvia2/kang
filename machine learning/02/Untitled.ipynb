{
 "cells": [
  {
   "cell_type": "code",
   "execution_count": 2,
   "id": "895d1f0b",
   "metadata": {},
   "outputs": [],
   "source": [
    "import numpy as np \n",
    "x           = np.array([[1.,2.,3.],[4.,5.,6.]])\n",
    "size_x      = x.shape\n",
    "\n",
    "y           = np.array([[10.,20.,30.],[40.,50.,60.]])\n",
    "size_y      = y.shape\n",
    "\n",
    "z           = np.array([2.])\n",
    "size_z      = z.shape"
   ]
  },
  {
   "cell_type": "code",
   "execution_count": 3,
   "id": "91d2f4d4",
   "metadata": {},
   "outputs": [
    {
     "data": {
      "text/plain": [
       "array([[11., 22., 33.],\n",
       "       [44., 55., 66.]])"
      ]
     },
     "execution_count": 3,
     "metadata": {},
     "output_type": "execute_result"
    }
   ],
   "source": [
    "x+y"
   ]
  },
  {
   "cell_type": "code",
   "execution_count": 4,
   "id": "5fc6150d",
   "metadata": {},
   "outputs": [
    {
     "data": {
      "text/plain": [
       "array([[-1.,  0.,  1.],\n",
       "       [ 2.,  3.,  4.]])"
      ]
     },
     "execution_count": 4,
     "metadata": {},
     "output_type": "execute_result"
    }
   ],
   "source": [
    "x-z"
   ]
  },
  {
   "cell_type": "code",
   "execution_count": null,
   "id": "c90521bd",
   "metadata": {},
   "outputs": [],
   "source": [
    "ㅜ"
   ]
  },
  {
   "cell_type": "code",
   "execution_count": null,
   "id": "82353d0d",
   "metadata": {},
   "outputs": [],
   "source": []
  },
  {
   "cell_type": "code",
   "execution_count": null,
   "id": "67082446",
   "metadata": {},
   "outputs": [],
   "source": []
  }
 ],
 "metadata": {
  "kernelspec": {
   "display_name": "Python 3",
   "language": "python",
   "name": "python3"
  },
  "language_info": {
   "codemirror_mode": {
    "name": "ipython",
    "version": 3
   },
   "file_extension": ".py",
   "mimetype": "text/x-python",
   "name": "python",
   "nbconvert_exporter": "python",
   "pygments_lexer": "ipython3",
   "version": "3.8.8"
  }
 },
 "nbformat": 4,
 "nbformat_minor": 5
}
